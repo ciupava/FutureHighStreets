{
 "cells": [
  {
   "cell_type": "markdown",
   "source": [
    "# Data processing for the SIM model\n",
    "\n",
    "Initial data handling for preparing material to be used in [SpatInteModel.ipynb](SpatInteModel.ipynb).\n",
    "\n",
    "NOTE: initial development is generated for the students population, with idea of the extending the methodology to the other categories of interest (residents, workers, international visitors)."
   ],
   "metadata": {}
  },
  {
   "cell_type": "markdown",
   "source": [
    "# Initialisation\n",
    "\n",
    "Uploading libraries and data"
   ],
   "metadata": {}
  },
  {
   "cell_type": "code",
   "execution_count": 30,
   "source": [
    "\n",
    "# Loading libraries\n",
    "import os\n",
    "import pandas as pd\n",
    "import geopandas as gpd\n",
    "from pathlib import Path\n",
    "import matplotlib.pyplot as plt\n",
    "\n",
    "# Dealing with the data\n",
    "## Paths definition \n",
    "base_dir = str(Path(os.getcwd()).parent)  # Get main directory (should be parent to this file)\n",
    "data_dir = os.path.join(base_dir,\n",
    "                        \"data\",\n",
    "                        \"national_data\") \n",
    "results_dir = os.path.join(base_dir,\n",
    "                           \"output\")\n",
    "\n",
    "if os.path.basename(base_dir) != \"FutureHighStreets\": #base_dir.split(\"/\")[-1] != \"FutureHighStreet\":\n",
    "    raise Exception(f\"The base directory should point to the main project directory,\"\n",
    "                    f\"but it points to {base_dir}\")\n",
    "    \n",
    "## Variables definition\n",
    "origin_data_folder = \"LSOA\"\n",
    "origin_data_filename = \"Lower_Layer_Super_Output_Areas_(December_2011)_Population_Weighted_Centroids\"  # change depending on costum edits\n",
    "origin_shp_path = os.path.join(data_dir,\n",
    "                               origin_data_folder,\n",
    "                               origin_data_filename) + \".shp\"\n",
    "destination_data_folder = \"Retail_Centres\"\n",
    "destination_data_filename = \"Retail_Centres_UK\" # change depending on costum edits\n",
    "destination_gpkg_path = os.path.join(data_dir,\n",
    "                         destination_data_folder,\n",
    "                         destination_data_filename) + \".gpkg\"\n",
    "\n",
    "# Data to generate destination attractiveness\n",
    "retailLUT_filename = \"RetailCentres_LUT.csv\"\n",
    "retailLUT_path = os.path.join(data_dir,\n",
    "                              retailLUT_filename)\n",
    "\n",
    "## Loading data\n",
    "origin_shp = gpd.read_file(origin_shp_path)\n",
    "origin_shp.head()\n",
    "\n",
    "destination_gpkg = gpd.read_file(destination_gpkg_path,\n",
    "                    layer = destination_data_filename)\n",
    "destination_gpkg.head()\n",
    "\n",
    "retailLUT = pd.read_csv(retailLUT_path)\n",
    "retailLUT.head()"
   ],
   "outputs": [
    {
     "output_type": "execute_result",
     "data": {
      "text/html": [
       "<div>\n",
       "<style scoped>\n",
       "    .dataframe tbody tr th:only-of-type {\n",
       "        vertical-align: middle;\n",
       "    }\n",
       "\n",
       "    .dataframe tbody tr th {\n",
       "        vertical-align: top;\n",
       "    }\n",
       "\n",
       "    .dataframe thead th {\n",
       "        text-align: right;\n",
       "    }\n",
       "</style>\n",
       "<table border=\"1\" class=\"dataframe\">\n",
       "  <thead>\n",
       "    <tr style=\"text-align: right;\">\n",
       "      <th></th>\n",
       "      <th>classification</th>\n",
       "      <th>Rank</th>\n",
       "    </tr>\n",
       "  </thead>\n",
       "  <tbody>\n",
       "    <tr>\n",
       "      <th>0</th>\n",
       "      <td>District Centre</td>\n",
       "      <td>3</td>\n",
       "    </tr>\n",
       "    <tr>\n",
       "      <th>1</th>\n",
       "      <td>Local Centre</td>\n",
       "      <td>5</td>\n",
       "    </tr>\n",
       "    <tr>\n",
       "      <th>2</th>\n",
       "      <td>Major Town Centre</td>\n",
       "      <td>2</td>\n",
       "    </tr>\n",
       "    <tr>\n",
       "      <th>3</th>\n",
       "      <td>Market Town</td>\n",
       "      <td>9</td>\n",
       "    </tr>\n",
       "    <tr>\n",
       "      <th>4</th>\n",
       "      <td>Out of Town Shopping Centres</td>\n",
       "      <td>8</td>\n",
       "    </tr>\n",
       "  </tbody>\n",
       "</table>\n",
       "</div>"
      ],
      "text/plain": [
       "                 classification  Rank\n",
       "0               District Centre     3\n",
       "1                  Local Centre     5\n",
       "2             Major Town Centre     2\n",
       "3                   Market Town     9\n",
       "4  Out of Town Shopping Centres     8"
      ]
     },
     "metadata": {},
     "execution_count": 30
    }
   ],
   "metadata": {}
  },
  {
   "cell_type": "markdown",
   "source": [
    "# Actual data processing\n",
    "\n",
    "Three main processes:\n",
    "1. Generate destination centroids;\n",
    "2. Generate destination attractiveness;\n",
    "3. Generate origin production/demand (population)\n",
    "\n",
    "NOTE: this must be repeated for the other categories (not only students)."
   ],
   "metadata": {}
  },
  {
   "cell_type": "markdown",
   "source": [
    "1. Generate destination centroids\n",
    "\n",
    "We need to generate the Retail centres centroids from the polygons file (CDRC"
   ],
   "metadata": {}
  },
  {
   "cell_type": "code",
   "execution_count": 29,
   "source": [
    "# Centroids of the Retail centres shp (destination shp)\n",
    "\n",
    "# copy the original gpkg file, to change geometry after\n",
    "centroids_destinations = destination_gpkg.copy()\n",
    "# change the geometry\n",
    "centroids_destinations.geometry = centroids_destinations['geometry'].centroid\n",
    "\n",
    "centroids_destinations.head()\n"
   ],
   "outputs": [
    {
     "output_type": "execute_result",
     "data": {
      "text/html": [
       "<div>\n",
       "<style scoped>\n",
       "    .dataframe tbody tr th:only-of-type {\n",
       "        vertical-align: middle;\n",
       "    }\n",
       "\n",
       "    .dataframe tbody tr th {\n",
       "        vertical-align: top;\n",
       "    }\n",
       "\n",
       "    .dataframe thead th {\n",
       "        text-align: right;\n",
       "    }\n",
       "</style>\n",
       "<table border=\"1\" class=\"dataframe\">\n",
       "  <thead>\n",
       "    <tr style=\"text-align: right;\">\n",
       "      <th></th>\n",
       "      <th>RC_ID</th>\n",
       "      <th>RC_Name</th>\n",
       "      <th>Classification</th>\n",
       "      <th>Country</th>\n",
       "      <th>RegionNM</th>\n",
       "      <th>geometry</th>\n",
       "    </tr>\n",
       "  </thead>\n",
       "  <tbody>\n",
       "    <tr>\n",
       "      <th>0</th>\n",
       "      <td>RC_EW_101</td>\n",
       "      <td>Hessle Road; Dairycoates; City of Kingston upo...</td>\n",
       "      <td>District Centre</td>\n",
       "      <td>England</td>\n",
       "      <td>Yorkshire and The Humber</td>\n",
       "      <td>POINT (507664.225 427664.830)</td>\n",
       "    </tr>\n",
       "    <tr>\n",
       "      <th>1</th>\n",
       "      <td>RC_EW_1010</td>\n",
       "      <td>Belgrave Road; Belgrave; Leicester (East Midla...</td>\n",
       "      <td>District Centre</td>\n",
       "      <td>England</td>\n",
       "      <td>East Midlands</td>\n",
       "      <td>POINT (459411.296 306107.108)</td>\n",
       "    </tr>\n",
       "    <tr>\n",
       "      <th>2</th>\n",
       "      <td>RC_EW_1014</td>\n",
       "      <td>Leicester; Leicester (East Midlands; England)</td>\n",
       "      <td>Major Town Centre</td>\n",
       "      <td>England</td>\n",
       "      <td>East Midlands</td>\n",
       "      <td>POINT (458788.687 304569.653)</td>\n",
       "    </tr>\n",
       "    <tr>\n",
       "      <th>3</th>\n",
       "      <td>RC_EW_1023</td>\n",
       "      <td>Nottingham; Nottingham (East Midlands; England)</td>\n",
       "      <td>Regional Centre</td>\n",
       "      <td>England</td>\n",
       "      <td>East Midlands</td>\n",
       "      <td>POINT (457363.648 339965.649)</td>\n",
       "    </tr>\n",
       "    <tr>\n",
       "      <th>4</th>\n",
       "      <td>RC_EW_1032</td>\n",
       "      <td>West Bridgford; Rushcliffe (East Midlands; Eng...</td>\n",
       "      <td>Town Centre</td>\n",
       "      <td>England</td>\n",
       "      <td>East Midlands</td>\n",
       "      <td>POINT (458787.427 337481.247)</td>\n",
       "    </tr>\n",
       "  </tbody>\n",
       "</table>\n",
       "</div>"
      ],
      "text/plain": [
       "        RC_ID                                            RC_Name  \\\n",
       "0   RC_EW_101  Hessle Road; Dairycoates; City of Kingston upo...   \n",
       "1  RC_EW_1010  Belgrave Road; Belgrave; Leicester (East Midla...   \n",
       "2  RC_EW_1014      Leicester; Leicester (East Midlands; England)   \n",
       "3  RC_EW_1023    Nottingham; Nottingham (East Midlands; England)   \n",
       "4  RC_EW_1032  West Bridgford; Rushcliffe (East Midlands; Eng...   \n",
       "\n",
       "      Classification  Country                  RegionNM  \\\n",
       "0    District Centre  England  Yorkshire and The Humber   \n",
       "1    District Centre  England             East Midlands   \n",
       "2  Major Town Centre  England             East Midlands   \n",
       "3    Regional Centre  England             East Midlands   \n",
       "4        Town Centre  England             East Midlands   \n",
       "\n",
       "                        geometry  \n",
       "0  POINT (507664.225 427664.830)  \n",
       "1  POINT (459411.296 306107.108)  \n",
       "2  POINT (458788.687 304569.653)  \n",
       "3  POINT (457363.648 339965.649)  \n",
       "4  POINT (458787.427 337481.247)  "
      ]
     },
     "metadata": {},
     "execution_count": 29
    }
   ],
   "metadata": {}
  },
  {
   "cell_type": "markdown",
   "source": [
    "2. Generate destination attractivenes\n",
    "\n",
    "We need to generate a column for the attractiveness of the retail centres, this will depend on the type (see Classification field) and on the size (which we'll extrapolate from their areal extension).\n",
    "\n",
    "We obtain a combined value by simply multiplying the two (?)."
   ],
   "metadata": {}
  },
  {
   "cell_type": "code",
   "execution_count": null,
   "source": [
    "# Generate destinations' attractiveness column\n",
    "\n",
    "## Add 'rank' column from LUT (from the Classification)\n",
    "\n",
    "\n",
    "## Add 'size column as calculated from spatial extension\n",
    "\n"
   ],
   "outputs": [],
   "metadata": {}
  },
  {
   "cell_type": "markdown",
   "source": [
    "3. Generate origin production/demand (population)\n",
    "\n",
    "We need to join n. of students (for now, then other categories) to the LSOA centroids shp"
   ],
   "metadata": {}
  },
  {
   "cell_type": "code",
   "execution_count": null,
   "source": [
    "# Add population (students) to the LSOA table\n",
    "\n",
    "## Simple join of the selected column"
   ],
   "outputs": [],
   "metadata": {}
  },
  {
   "cell_type": "markdown",
   "source": [
    "# Generating local data for the model\n",
    "\n",
    "Create separate 'regional' folders where to run the SIM for specific area of interest, for example LADs. This folder can be then called from within the model, that is [SpatInteModel.ipynb](SpatInteModel.ipynb)"
   ],
   "metadata": {}
  },
  {
   "cell_type": "code",
   "execution_count": null,
   "source": [
    "## First select LSOAs (our geographical unit) by ID from the national list... use specific LUT?\n",
    "\n",
    "\n",
    "## Output selection of the processed data (origin and destination) in the specific folder\n"
   ],
   "outputs": [],
   "metadata": {}
  }
 ],
 "metadata": {
  "orig_nbformat": 4,
  "language_info": {
   "name": "python",
   "version": "3.7.10",
   "mimetype": "text/x-python",
   "codemirror_mode": {
    "name": "ipython",
    "version": 3
   },
   "pygments_lexer": "ipython3",
   "nbconvert_exporter": "python",
   "file_extension": ".py"
  },
  "kernelspec": {
   "name": "python3",
   "display_name": "Python 3.7.10 64-bit ('highstreets': conda)"
  },
  "interpreter": {
   "hash": "0ff40d3e37488f7525af080e00b83f00b01199ca3b886df7edd6db93f7077531"
  }
 },
 "nbformat": 4,
 "nbformat_minor": 2
}