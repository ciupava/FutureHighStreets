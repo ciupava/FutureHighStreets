{
 "cells": [
  {
   "cell_type": "markdown",
   "source": [
    "# Data management for the SIM model\n",
    "\n",
    "Initial data handling for preparing material to be used in [SpatInteModel.ipynb](SpatInteModel.ipynb)."
   ],
   "metadata": {}
  }
 ],
 "metadata": {
  "orig_nbformat": 4,
  "language_info": {
   "name": "python"
  }
 },
 "nbformat": 4,
 "nbformat_minor": 2
}