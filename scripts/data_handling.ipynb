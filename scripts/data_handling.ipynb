{
 "cells": [
  {
   "cell_type": "markdown",
   "source": [
    "# Data processing for the SIM model\n",
    "\n",
    "Initial data handling for preparing material to be used in [SpatInteModel.ipynb](SpatInteModel.ipynb)."
   ],
   "metadata": {}
  },
  {
   "cell_type": "markdown",
   "source": [
    "## Initialisation\n",
    "\n",
    "Uploading libraries and data"
   ],
   "metadata": {}
  },
  {
   "cell_type": "code",
   "execution_count": null,
   "source": [
    "# Loading libraries\n",
    "import os\n",
    "import pandas as pd\n",
    "import geopandas as gpd\n",
    "from pathlib import Path\n",
    "import matplotlib.pyplot as plt\n",
    "\n",
    "# Dealing with the data\n",
    "## Paths definition \n",
    "base_dir = str(Path(os.getcwd()).parent)  # Get main directory (should be parent to this file)\n",
    "data_dir = os.path.join(base_dir,\n",
    "                        \"data\",\n",
    "                        \"national_data\") \n",
    "results_dir = os.path.join(base_dir,\n",
    "                           \"output\")\n",
    "\n",
    "if os.path.basename(base_dir) != \"FutureHighStreets\": #base_dir.split(\"/\")[-1] != \"FutureHighStreet\":\n",
    "    raise Exception(f\"The base directory should point to the main project directory,\"\n",
    "                    f\"but it points to {base_dir}\")\n",
    "    \n",
    "## Variables definition\n",
    "origin_data_folder = \"LSOA\"\n",
    "origin_data_filename = \"Lower_Layer_Super_Output_Areas_(December_2011)_Population_Weighted_Centroids\"  # change depending on costum edits\n",
    "origin_shp_path = os.path.join(data_dir,\n",
    "                                     origin_data_folder,\n",
    "                                     origin_data_filename) + \".shp\"\n",
    "destination_data_folder = \"Retail_Centres\"\n",
    "destination_data_filename = \"Retail_Centres_UK\" # change depending on costum edits\n",
    "destination_gpkg_path = os.path.join(data_dir,\n",
    "                         destination_data_folder,\n",
    "                         destination_data_filename) + \".gpkg\"\n",
    "\n",
    "## Loading data\n",
    "# origin_table = pd.read_csv(os.path.join(data_dir,\n",
    "#                                       origin_data_folder,\n",
    "#                                       origin_data_filename))\n",
    "# origin_csv.head() \n",
    "# destination_csv = pd.read_csv(os.path.jpin(data_dir,\n",
    "#                                            destiantion_data_folder,\n",
    "#                                            destination_data_filename))\n",
    "origin_shp = gpd.read_file(origin_shp_path)\n",
    "origin_shp.head()\n",
    "\n",
    "destination_gpkg = gpd.read_file(destination_gpkg_path,\n",
    "                    layer = destination_data_filename)\n",
    "destination_gpkg.head()\n"
   ],
   "outputs": [],
   "metadata": {}
  },
  {
   "cell_type": "markdown",
   "source": [
    "# Actual data processing\n",
    "\n",
    "Generating the centroids and other processed data"
   ],
   "metadata": {}
  },
  {
   "cell_type": "code",
   "execution_count": null,
   "source": [
    "# find the correct functions!"
   ],
   "outputs": [],
   "metadata": {}
  },
  {
   "cell_type": "markdown",
   "source": [
    "# Generating local data for the model\n",
    "\n",
    "Create folders for area of interest where to run the SIM, for example LAD. This folder can be then called from within the model, that is [SpatInteModel.ipynb](SpatInteModel.ipynb)"
   ],
   "metadata": {}
  },
  {
   "cell_type": "code",
   "execution_count": null,
   "source": [],
   "outputs": [],
   "metadata": {}
  }
 ],
 "metadata": {
  "orig_nbformat": 4,
  "language_info": {
   "name": "python",
   "version": "3.7.10",
   "mimetype": "text/x-python",
   "codemirror_mode": {
    "name": "ipython",
    "version": 3
   },
   "pygments_lexer": "ipython3",
   "nbconvert_exporter": "python",
   "file_extension": ".py"
  },
  "kernelspec": {
   "name": "python3",
   "display_name": "Python 3.7.10 64-bit ('highstreets': conda)"
  },
  "interpreter": {
   "hash": "0ff40d3e37488f7525af080e00b83f00b01199ca3b886df7edd6db93f7077531"
  }
 },
 "nbformat": 4,
 "nbformat_minor": 2
}